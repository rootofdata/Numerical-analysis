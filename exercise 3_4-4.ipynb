{
 "cells": [
  {
   "cell_type": "code",
   "execution_count": 12,
   "metadata": {},
   "outputs": [],
   "source": [
    "#set initial values\n",
    "x=[0.1,0.2,0.3]\n",
    "fx=[-0.29004996,-0.56079734,-0.81401972]\n",
    "f1x=[-2.8019975,-2.6159201,-2.9734038]"
   ]
  },
  {
   "cell_type": "markdown",
   "metadata": {},
   "source": [
    "$H  _{5} (x)= sum _{j=0} ^{2} f(x  _{j} )H  _{2,j} (x)+ sum _{j=0} ^{2} f' (x  _{j} ){H}hat  _{2,j} (x)$"
   ]
  },
  {
   "cell_type": "markdown",
   "metadata": {},
   "source": [
    "$L _{2,0} (x)= {(x-0.2)(x-0.3)} / {(0.1-0.2)(0.1-0.3)} =50(x ^{2} -0.5x+0.06)=50x ^{2} -25x+3$"
   ]
  },
  {
   "cell_type": "markdown",
   "metadata": {},
   "source": [
    "$L  _{2,1} (x)= {(x-0.1)(x-0.3)} over {(0.2-0.1)(0.2-0.3)} =-100(x  ^{2} -0.4x+0.03)=-100x  ^{2} +40x-33$"
   ]
  },
  {
   "cell_type": "markdown",
   "metadata": {},
   "source": [
    "$L _{2,2} (x)= {(x-0.1)(x-0.2)} over {(0.3-0.1)(0.3-0.2)} =50(x ^{2} -0.3x+0.02)=50x ^{2} -15x+1$"
   ]
  },
  {
   "cell_type": "markdown",
   "metadata": {},
   "source": [
    "$H  _{2,0} (x)=[1-2(x-0.1)(-15)](50x  ^{2} -25x+3)  ^{2} =(30x-2)(50x  ^{2} -25x+3)  ^{2}$"
   ]
  },
  {
   "cell_type": "markdown",
   "metadata": {},
   "source": [
    "$H _{2,1} (x)=[1-2(x-0.2)(0)](-100x ^{2} +40x-3) ^{2} =(-100x ^{2} +40x-3) ^{2}$"
   ]
  },
  {
   "cell_type": "markdown",
   "metadata": {},
   "source": [
    "$H  _{2,2} (x)=[1-2(x-0.3)(15)](50x  ^{2} -15x+1)  ^{2} =(-30x+10)(50x  ^{2} -15x+1)  ^{2}$"
   ]
  },
  {
   "cell_type": "markdown",
   "metadata": {},
   "source": [
    "$hat{H  _{2,0}} (x)=(x-0.1)(50x  ^{2} -25x+3)  ^{2}$"
   ]
  },
  {
   "cell_type": "markdown",
   "metadata": {},
   "source": [
    "$hat{H  _{2,1}} (x)=(x-0.2)(-100x  ^{2} +40x-3)  ^{2}$"
   ]
  },
  {
   "cell_type": "markdown",
   "metadata": {},
   "source": [
    "$hat{H  _{2,2}} (x)=(x-0.3)(50x  ^{2} -15x+1)  ^{2}$"
   ]
  },
  {
   "cell_type": "code",
   "execution_count": 21,
   "metadata": {},
   "outputs": [
    {
     "data": {
      "text/plain": [
       "-0.5310316745855995"
      ]
     },
     "execution_count": 21,
     "metadata": {},
     "output_type": "execute_result"
    }
   ],
   "source": [
    "def H5(a):\n",
    "    result=fx[0]*(30*a-2)*(50*a**2-25*a+3)**2+fx[1]*(-100*a**2+40*a-3)**2\n",
    "    +fx[2]*(-30*a+10)*(50*a**2-15*a+1)**2+f1x[0]*(a-x[0])*(50*a**2-25*a+3)**2\n",
    "    +f1x[1]*(a-x[1])*(-100*a**2+40*a-3)**2+f1x[2]*(a-x[2])*(50*a**2-15*a+1)\n",
    "    return result\n",
    "H5(0.18)"
   ]
  },
  {
   "cell_type": "code",
   "execution_count": 22,
   "metadata": {},
   "outputs": [
    {
     "data": {
      "text/plain": [
       "-1.0386318345855994"
      ]
     },
     "execution_count": 22,
     "metadata": {},
     "output_type": "execute_result"
    }
   ],
   "source": [
    "-0.50760016-0.5310316745855995"
   ]
  }
 ],
 "metadata": {
  "interpreter": {
   "hash": "67be3771a642d3957883536b75b4e832354ecb1696211a971d0e472d0432d80d"
  },
  "kernelspec": {
   "display_name": "Python 3.8.8 ('base')",
   "language": "python",
   "name": "python3"
  },
  "language_info": {
   "codemirror_mode": {
    "name": "ipython",
    "version": 3
   },
   "file_extension": ".py",
   "mimetype": "text/x-python",
   "name": "python",
   "nbconvert_exporter": "python",
   "pygments_lexer": "ipython3",
   "version": "3.8.8"
  },
  "orig_nbformat": 4
 },
 "nbformat": 4,
 "nbformat_minor": 2
}
