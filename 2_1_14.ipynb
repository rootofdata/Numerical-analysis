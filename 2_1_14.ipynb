{
 "cells": [
  {
   "cell_type": "markdown",
   "metadata": {},
   "source": [
    "2.1 14 code  \n",
    "bisection algorithm"
   ]
  },
  {
   "cell_type": "code",
   "execution_count": 1,
   "metadata": {},
   "outputs": [
    {
     "name": "stdout",
     "output_type": "stream",
     "text": [
      "n값 14\n",
      "P값 1.73199462890625\n"
     ]
    }
   ],
   "source": [
    "def f(x):\n",
    "    y=x**2-3\n",
    "    return y\n",
    "a=1;b=2\n",
    "TOL=10**(-4)\n",
    "fa=f(a)\n",
    "fb=f(b)\n",
    "tot=0\n",
    "p1=[]\n",
    "y1=[]\n",
    "while True:\n",
    "    p=a+(b-a)/2\n",
    "    tot+=1\n",
    "    fp=f(p)\n",
    "    y1.append(fp)\n",
    "    p1.append(p)\n",
    "    if fp==0 or (b-a)/2<TOL:\n",
    "        print('n값',tot)\n",
    "        print('P값',p)\n",
    "        break\n",
    "    if fa*fp>0:\n",
    "        a=p\n",
    "    else: b=p"
   ]
  },
  {
   "cell_type": "code",
   "execution_count": 2,
   "metadata": {},
   "outputs": [
    {
     "data": {
      "text/plain": [
       "[<matplotlib.lines.Line2D at 0x1913ce91220>]"
      ]
     },
     "execution_count": 2,
     "metadata": {},
     "output_type": "execute_result"
    },
    {
     "data": {
      "image/png": "[encoded data removed]",
      "text/plain": [
       "<Figure size 432x288 with 1 Axes>"
      ]
     },
     "metadata": {
      "needs_background": "light"
     },
     "output_type": "display_data"
    }
   ],
   "source": [
    "import numpy as np\n",
    "import matplotlib.pyplot as plt\n",
    "x=np.linspace(1.5,1.8)\n",
    "y=f(x)\n",
    "plt.scatter(p1,y1)\n",
    "plt.plot(x,x**2-3, c = 'g', alpha = 0.5)"
   ]
  }
 ],
 "metadata": {
  "interpreter": {
   "hash": "452556f33803a348e8c0f92897b7c95532e8aa7ae459e8da3167d1090ac9f40f"
  },
  "kernelspec": {
   "display_name": "Python 3.8.8 ('selenium': venv)",
   "language": "python",
   "name": "python3"
  },
  "language_info": {
   "codemirror_mode": {
    "name": "ipython",
    "version": 3
   },
   "file_extension": ".py",
   "mimetype": "text/x-python",
   "name": "python",
   "nbconvert_exporter": "python",
   "pygments_lexer": "ipython3",
   "version": "3.8.8"
  },
  "orig_nbformat": 4
 },
 "nbformat": 4,
 "nbformat_minor": 2
}
