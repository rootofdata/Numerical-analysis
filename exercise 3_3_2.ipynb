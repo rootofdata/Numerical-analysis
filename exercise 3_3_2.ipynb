{
 "cells": [
  {
   "cell_type": "markdown",
   "metadata": {},
   "source": [
    "Use eq.(3.10) or Algorithm3.2 to construct interpolating  \n",
    " polynomials of degree one,two,and three for the following data.   \n",
    "Approximate the specified value using each of the polynomials "
   ]
  },
  {
   "cell_type": "markdown",
   "metadata": {},
   "source": [
    "f(0.43) if f(0)=1,f(0.25)=1.64872, f(0.5)=2.71828, f(0.75)=4.48169"
   ]
  },
  {
   "cell_type": "code",
   "execution_count": 2,
   "metadata": {},
   "outputs": [],
   "source": [
    "#setting initial values\n",
    "x0=0\n",
    "x1=0.25\n",
    "x2=0.5\n",
    "x3=0.75\n",
    "fx0=1\n",
    "fx1=1.64872\n",
    "fx2=2.71828\n",
    "fx3=4.48169"
   ]
  },
  {
   "cell_type": "code",
   "execution_count": 3,
   "metadata": {},
   "outputs": [],
   "source": [
    "x=[0,0.25,0.5,0.75]\n",
    "fx=[1,1.64872,2.71828,4.48169]"
   ]
  },
  {
   "cell_type": "markdown",
   "metadata": {},
   "source": [
    "first divided differences"
   ]
  },
  {
   "cell_type": "code",
   "execution_count": 4,
   "metadata": {},
   "outputs": [
    {
     "data": {
      "text/plain": [
       "[2.59488, 4.27824, 7.0536400000000015]"
      ]
     },
     "execution_count": 4,
     "metadata": {},
     "output_type": "execute_result"
    }
   ],
   "source": [
    "fxx=[]\n",
    "for i in range(3):\n",
    "    value=(fx[i+1]-fx[i]) / (x[i+1]-x[i])\n",
    "    fxx.append(value)\n",
    "fxx"
   ]
  },
  {
   "cell_type": "markdown",
   "metadata": {},
   "source": [
    "2nd divided differences"
   ]
  },
  {
   "cell_type": "code",
   "execution_count": 8,
   "metadata": {},
   "outputs": [
    {
     "data": {
      "text/plain": [
       "[3.366720000000001, 5.550800000000002]"
      ]
     },
     "execution_count": 8,
     "metadata": {},
     "output_type": "execute_result"
    }
   ],
   "source": [
    "fxxx=[]\n",
    "for i in range(2):\n",
    "    value=(fxx[i+1]-fxx[i]) / (x[i+2]-x[i])\n",
    "    fxxx.append(value)\n",
    "fxxx"
   ]
  },
  {
   "cell_type": "code",
   "execution_count": 12,
   "metadata": {},
   "outputs": [
    {
     "data": {
      "text/plain": [
       "[2.9121066666666686]"
      ]
     },
     "execution_count": 12,
     "metadata": {},
     "output_type": "execute_result"
    }
   ],
   "source": [
    "fxxxx=[]\n",
    "for i in range(1):\n",
    "    value=(fxxx[i+1]-fxxx[i]) / (x[i+3]-x[i])\n",
    "    fxxxx.append(value)\n",
    "fxxxx"
   ]
  },
  {
   "cell_type": "markdown",
   "metadata": {},
   "source": [
    "degree i in interpolating polynomial -> get p1,p2,p3"
   ]
  },
  {
   "cell_type": "code",
   "execution_count": 14,
   "metadata": {},
   "outputs": [
    {
     "data": {
      "text/plain": [
       "2.3606047340800003"
      ]
     },
     "execution_count": 14,
     "metadata": {},
     "output_type": "execute_result"
    }
   ],
   "source": [
    "def p3(x):\n",
    "    result=fx[0]+fxx[0]*(x-x0)+fxxx[0]*(x-x0)*(x-x1)+fxxxx[0]*(x-x0)*(x-x1)*(x-x2)\n",
    "    return result\n",
    "p3(0.43)"
   ]
  },
  {
   "cell_type": "code",
   "execution_count": 17,
   "metadata": {},
   "outputs": [
    {
     "data": {
      "text/plain": [
       "2.3488631200000003"
      ]
     },
     "execution_count": 17,
     "metadata": {},
     "output_type": "execute_result"
    }
   ],
   "source": [
    "def p2(x):\n",
    "    result=fx[1]+fxx[1]*(x-x1)+fxxx[1]*(x-x1)*(x-x2)\n",
    "    return result\n",
    "p2(0.43)"
   ]
  },
  {
   "cell_type": "code",
   "execution_count": 19,
   "metadata": {},
   "outputs": [
    {
     "data": {
      "text/plain": [
       "2.4188032"
      ]
     },
     "execution_count": 19,
     "metadata": {},
     "output_type": "execute_result"
    }
   ],
   "source": [
    "def p1(x):\n",
    "    result=fx[1]+fxx[1]*(x-x1)\n",
    "    return result\n",
    "p1(0.43)"
   ]
  }
 ],
 "metadata": {
  "interpreter": {
   "hash": "67be3771a642d3957883536b75b4e832354ecb1696211a971d0e472d0432d80d"
  },
  "kernelspec": {
   "display_name": "Python 3.8.8 ('base')",
   "language": "python",
   "name": "python3"
  },
  "language_info": {
   "codemirror_mode": {
    "name": "ipython",
    "version": 3
   },
   "file_extension": ".py",
   "mimetype": "text/x-python",
   "name": "python",
   "nbconvert_exporter": "python",
   "pygments_lexer": "ipython3",
   "version": "3.8.8"
  },
  "orig_nbformat": 4
 },
 "nbformat": 4,
 "nbformat_minor": 2
}
