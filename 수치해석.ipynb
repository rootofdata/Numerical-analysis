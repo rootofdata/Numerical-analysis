{
 "cells": [
  {
   "cell_type": "code",
   "execution_count": 7,
   "metadata": {},
   "outputs": [],
   "source": [
    "#1.2 example\n",
    "x=1.5\n",
    "TOL=10e-5\n",
    "#\n",
    "N=1\n",
    "y=x-1\n",
    "SUM=0\n",
    "POWER=y\n",
    "TERM=y\n",
    "SIGN=-1"
   ]
  },
  {
   "cell_type": "code",
   "execution_count": 15,
   "metadata": {},
   "outputs": [
    {
     "name": "stdout",
     "output_type": "stream",
     "text": [
      "9\n",
      "10\n"
     ]
    }
   ],
   "source": [
    "while N<=10:\n",
    "    SIGN=(-1)*SIGN\n",
    "    SUM+=SIGN*TERM\n",
    "    POWER=POWER*y\n",
    "    TERM=POWER/(N+1)\n",
    "    if abs(TERM)<TOL:\n",
    "        print(N)\n",
    "    else:\n",
    "        print(\"Method Failed\")\n",
    "    N+=1"
   ]
  },
  {
   "cell_type": "code",
   "execution_count": 20,
   "metadata": {},
   "outputs": [
    {
     "name": "stdout",
     "output_type": "stream",
     "text": [
      "횟수(Pn의 n값) 14\n",
      "1.36517333984375\n"
     ]
    }
   ],
   "source": [
    "#bisection algorithm 2.1\n",
    "def f(x):\n",
    "    y=x**3+4*x**2-10\n",
    "    return y\n",
    "a=1;b=2\n",
    "TOL=10**(-4)\n",
    "fa=f(a)\n",
    "fb=f(b)\n",
    "tot=0\n",
    "p1=[]\n",
    "y1=[]\n",
    "while True:\n",
    "    p=a+(b-a)/2\n",
    "    tot+=1\n",
    "    fp=f(p)\n",
    "    y1.append(fp)\n",
    "    p1.append(p)\n",
    "    if fp==0 or (b-a)/2<TOL:\n",
    "        print('횟수(Pn의 n값)',tot)\n",
    "        print(p)\n",
    "        break\n",
    "    if fa*fp>0:\n",
    "        a=p\n",
    "    else: b=p"
   ]
  },
  {
   "cell_type": "code",
   "execution_count": 21,
   "metadata": {},
   "outputs": [
    {
     "name": "stdout",
     "output_type": "stream",
     "text": [
      "3.6260588648874514\n",
      "3\n"
     ]
    }
   ],
   "source": [
    "#'fixed-pt algorithm 2.2\n",
    "import math\n",
    "from random import *\n",
    "def g(x):\n",
    "    y=math.pi+0.5*math.sin(x/2)\n",
    "    return y\n",
    "a=0;b=2*math.pi\n",
    "i=1\n",
    "p=uniform(a,b)\n",
    "N0=14\n",
    "TOL=10**(-2)\n",
    "while i<=N0:\n",
    "    p1=g(p)\n",
    "    if abs(p1-p)<TOL:\n",
    "        print(p)\n",
    "        break\n",
    "    i+=1\n",
    "    p=p1\n",
    "print(i)\n",
    "    "
   ]
  },
  {
   "cell_type": "code",
   "execution_count": null,
   "metadata": {},
   "outputs": [],
   "source": []
  },
  {
   "cell_type": "code",
   "execution_count": 7,
   "metadata": {},
   "outputs": [
    {
     "name": "stdout",
     "output_type": "stream",
     "text": [
      "0.0625\n",
      "METHOD Failed\n"
     ]
    }
   ],
   "source": [
    "while True:\n",
    "    SIGN =-SIGN\n",
    "    SUM=SUM+SIGN*TERM\n",
    "    POWER=POWER*y\n",
    "    TERM=POWER/(N+1)\n",
    "    if abs(TERM)<TOL:\n",
    "        N+=1\n",
    "    else :\n",
    "        print(TERM)\n",
    "        print(\"METHOD Failed\")\n",
    "        break"
   ]
  }
 ],
 "metadata": {
  "interpreter": {
   "hash": "e017a947ed1cbd98d6fb4aec7d9beab0ece45773d45accafee45474853a8cce5"
  },
  "kernelspec": {
   "display_name": "Python 3.8.8 ('base')",
   "language": "python",
   "name": "python3"
  },
  "language_info": {
   "codemirror_mode": {
    "name": "ipython",
    "version": 3
   },
   "file_extension": ".py",
   "mimetype": "text/x-python",
   "name": "python",
   "nbconvert_exporter": "python",
   "pygments_lexer": "ipython3",
   "version": "3.8.8"
  },
  "orig_nbformat": 4
 },
 "nbformat": 4,
 "nbformat_minor": 2
}
